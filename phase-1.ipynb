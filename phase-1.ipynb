{
 "cells": [
  {
   "cell_type": "markdown",
   "id": "6bcaa8e4",
   "metadata": {},
   "source": [
    "### Numpy array and Basis \n",
    "    \n",
    "by chai aur code"
   ]
  },
  {
   "cell_type": "code",
   "execution_count": 2,
   "id": "dbfc612b",
   "metadata": {},
   "outputs": [],
   "source": [
    "import numpy as np"
   ]
  },
  {
   "cell_type": "markdown",
   "id": "dbef8f32",
   "metadata": {},
   "source": [
    "### Creating array from list"
   ]
  },
  {
   "cell_type": "code",
   "execution_count": 3,
   "id": "1f8b05fd",
   "metadata": {},
   "outputs": [
    {
     "name": "stdout",
     "output_type": "stream",
     "text": [
      "1D array :  [1 2 3 4 5]\n",
      "2D array :  [[1 2 3]\n",
      " [4 5 6]]\n"
     ]
    }
   ],
   "source": [
    "arr_1d = np.array([1, 2, 3, 4, 5]) \n",
    "print(\"1D array : \" , arr_1d) \n",
    "\n",
    "\n",
    "arr_2d = np.array([[1, 2, 3] , [4, 5, 6]]) \n",
    "print(\"2D array : \" , arr_2d) "
   ]
  },
  {
   "cell_type": "code",
   "execution_count": null,
   "id": "26c35627",
   "metadata": {},
   "outputs": [],
   "source": [
    "# In VS Code Jupyter Notebooks, the shortcut to add a markdown cell below is:\n",
    "# Press 'B' to add a new cell below, then press 'M' to convert it to Markdown.\n",
    "# (Make sure you are in command mode by pressing 'Esc' first.)"
   ]
  },
  {
   "cell_type": "code",
   "execution_count": null,
   "id": "a23fe3a5",
   "metadata": {},
   "outputs": [],
   "source": [
    "# In VS Code Jupyter Notebooks, the shortcut to add a code cell below is:\n",
    "# Press 'B' to add a new cell below.\n",
    "# (Make sure you are in command mode by pressing 'Esc' first.)"
   ]
  },
  {
   "cell_type": "markdown",
   "id": "6da14ca7",
   "metadata": {},
   "source": [
    "### List v/s Numpy array\n"
   ]
  },
  {
   "cell_type": "code",
   "execution_count": 6,
   "id": "0a371271",
   "metadata": {},
   "outputs": [
    {
     "name": "stdout",
     "output_type": "stream",
     "text": [
      "Python List multiplication :  [1, 2, 3, 1, 2, 3]\n",
      "Python array multiplication :  [2 4 6]\n",
      "\n",
      " List operation time :  0.05279350280761719\n",
      "\n",
      " Numpy operation time :  0.004999637603759766\n"
     ]
    }
   ],
   "source": [
    "py_list = [1, 2, 3]\n",
    "print(\"Python List multiplication : \" , py_list * 2) \n",
    "\n",
    "\n",
    "np_array = np.array([1, 2, 3]) #element vise multiplication \n",
    "print(\"Python array multiplication : \" , np_array * 2) \n",
    "\n",
    "\n",
    "import time\n",
    "start = time.time()\n",
    "py_list = [i*2 for i in range(1000000)]\n",
    "print(\"\\n List operation time : \" , time.time() - start)\n",
    "\n",
    "\n",
    "start = time.time()\n",
    "np_array = np.arange(1000000) * 2\n",
    "print(\"\\n Numpy operation time : \" , time.time() - start)"
   ]
  },
  {
   "cell_type": "markdown",
   "id": "1e2cfcab",
   "metadata": {},
   "source": [
    "### Creating array from scratch\n"
   ]
  },
  {
   "cell_type": "code",
   "execution_count": null,
   "id": "fe5ce525",
   "metadata": {},
   "outputs": [
    {
     "name": "stdout",
     "output_type": "stream",
     "text": [
      "\n",
      "Zeroes array : \n",
      " [[0. 0. 0. 0.]\n",
      " [0. 0. 0. 0.]\n",
      " [0. 0. 0. 0.]]\n",
      "\n",
      "Ones array : \n",
      " [[1. 1. 1. 1.]\n",
      " [1. 1. 1. 1.]]\n",
      "\n",
      "Full array : \n",
      " [[7 7]\n",
      " [7 7]]\n",
      "\n",
      "Random array : \n",
      " [[0.95942937 0.99750576 0.81760456]\n",
      " [0.85856548 0.01768342 0.21098985]]\n",
      "\n",
      "Sequence array : \n",
      " [0 2 4 6 8]\n"
     ]
    }
   ],
   "source": [
    "zeros = np.zeros((3, 4)) \n",
    "print(\"\\nZeroes array : \\n\" , zeros)\n",
    "\n",
    "\n",
    "ones = np.ones((2, 4)) \n",
    "print(\"\\nOnes array : \\n\" , ones)\n",
    "\n",
    "\n",
    "full = np.full((2, 2), 7) \n",
    "print(\"\\nFull array : \\n\" , full)\n",
    "\n",
    "\n",
    "random = np.random.random((2, 3))\n",
    "print(\"\\nRandom array : \\n\" , random)\n",
    "\n",
    "\n",
    "sequence = np.arange(0, 10, 2) # (start , stop , jump) but stop and stop-1 is not included 1\n",
    "print(\"\\nSequence array : \\n\" , sequence)\n"
   ]
  },
  {
   "cell_type": "markdown",
   "id": "320ac1df",
   "metadata": {},
   "source": [
    "### Vector, Matrix and Tensor"
   ]
  },
  {
   "cell_type": "code",
   "execution_count": 19,
   "id": "6ffd4988",
   "metadata": {},
   "outputs": [
    {
     "name": "stdout",
     "output_type": "stream",
     "text": [
      "\n",
      " Vector :  [1 2 3 4 5]\n",
      "Matrix :  [[1 2 3]\n",
      " [4 5 6]]\n",
      "Tensor :  [[[1 2]\n",
      "  [3 4]]\n",
      "\n",
      " [[5 6]\n",
      "  [7 8]]]\n"
     ]
    }
   ],
   "source": [
    "vector = np.array([1, 2, 3, 4, 5])\n",
    "print(\"\\n Vector : \" , vector)\n",
    "\n",
    "\n",
    "matrix = np.array([[1, 2, 3] ,\n",
    "                   [4, 5, 6]])\n",
    "print(\"Matrix : \" , matrix)\n",
    "\n",
    "\n",
    "tensor = np.array([[[1, 2] , [3, 4]],\n",
    "                   [[5, 6] , [7, 8]]]) \n",
    "print(\"Tensor : \" , tensor)"
   ]
  },
  {
   "cell_type": "markdown",
   "id": "0fd4e2ae",
   "metadata": {},
   "source": [
    "### Array Properties "
   ]
  },
  {
   "cell_type": "code",
   "execution_count": 38,
   "id": "379a4b16",
   "metadata": {},
   "outputs": [
    {
     "name": "stdout",
     "output_type": "stream",
     "text": [
      "Shape of array :  (2, 3)\n",
      "Dimension of array :  2\n",
      "Size of array :  6\n",
      "Data Type of array :  int64\n"
     ]
    }
   ],
   "source": [
    "arr = np.array([[1, 2, 3], \n",
    "                [4, 5, 6]])\n",
    "print(\"Shape of array : \" , arr.shape) \n",
    "print(\"Dimension of array : \" , arr.ndim) \n",
    "print(\"Size of array : \" , arr.size) \n",
    "print(\"Data Type of array : \" , arr.dtype) # Datatypes should be same in numpy array\n"
   ]
  },
  {
   "cell_type": "markdown",
   "id": "312a9122",
   "metadata": {},
   "source": [
    "### Array Reshaping"
   ]
  },
  {
   "cell_type": "code",
   "execution_count": 7,
   "id": "145d9c99",
   "metadata": {},
   "outputs": [],
   "source": [
    "import numpy as np \n"
   ]
  },
  {
   "cell_type": "code",
   "execution_count": 15,
   "id": "74ff5c29",
   "metadata": {},
   "outputs": [
    {
     "name": "stdout",
     "output_type": "stream",
     "text": [
      "\n",
      "Original array : \n",
      " [ 0  1  2  3  4  5  6  7  8  9 10 11]\n",
      "\n",
      "Reshaped array : \n",
      " [[ 0  1  2  3]\n",
      " [ 4  5  6  7]\n",
      " [ 8  9 10 11]]\n",
      "\n",
      "Resized array : \n",
      " [[ 0  1  2  3]\n",
      " [ 4  5  6  7]\n",
      " [ 8  9 10 11]\n",
      " [ 0  1  2  3]]\n",
      "\n",
      "Flattened array : \n",
      " [ 0  1  2  3  4  5  6  7  8  9 10 11  0  1  2  3]\n",
      "\n",
      "Raveled array : \n",
      " [ 0  1  2  3  4  5  6  7  8  9 10 11  0  1  2  3]\n",
      "\n",
      "Transposed array : \n",
      " [[ 0  4  8]\n",
      " [ 1  5  9]\n",
      " [ 2  6 10]\n",
      " [ 3  7 11]]\n"
     ]
    }
   ],
   "source": [
    "arr = np.arange(12)\n",
    "print(\"\\nOriginal array : \\n\" , arr) \n",
    "\n",
    "\n",
    "reshaped = arr.reshape((3, 4)) # to change the shape of an array without modifying the original array. It returns a new view (when possible) of the array with the specified shape.\n",
    "print(\"\\nReshaped array : \\n\" , reshaped)\n",
    "\n",
    "\n",
    "resize = np.resize(arr, (4, 4)) #to change the shape (dimensions) of an array, either in-place or by returning a new one.\n",
    "print(\"\\nResized array : \\n\", resize)\n",
    "\n",
    "\n",
    "flattened = resize.flatten() #to flat the multi dimensional array\n",
    "print(\"\\nFlattened array : \\n\" , flattened)\n",
    "\n",
    "\n",
    "raveled = resize.ravel() #returns view, instead of copy\n",
    "print(\"\\nRaveled array : \\n\" , raveled)\n",
    "\n",
    "\n",
    "transpose = reshaped.T #Transpose the matrix\n",
    "print(\"\\nTransposed array : \\n\" , transpose)"
   ]
  }
 ],
 "metadata": {
  "kernelspec": {
   "display_name": ".venv",
   "language": "python",
   "name": "python3"
  },
  "language_info": {
   "codemirror_mode": {
    "name": "ipython",
    "version": 3
   },
   "file_extension": ".py",
   "mimetype": "text/x-python",
   "name": "python",
   "nbconvert_exporter": "python",
   "pygments_lexer": "ipython3",
   "version": "3.12.9"
  }
 },
 "nbformat": 4,
 "nbformat_minor": 5
}
