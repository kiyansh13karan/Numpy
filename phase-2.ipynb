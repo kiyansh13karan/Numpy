{
 "cells": [
  {
   "cell_type": "markdown",
   "id": "aa957c18",
   "metadata": {},
   "source": [
    "## Numpy array operations "
   ]
  },
  {
   "cell_type": "code",
   "execution_count": 1,
   "id": "e31abc4b",
   "metadata": {},
   "outputs": [],
   "source": [
    "import numpy as np"
   ]
  },
  {
   "cell_type": "code",
   "execution_count": 6,
   "id": "13455f85",
   "metadata": {},
   "outputs": [
    {
     "name": "stdout",
     "output_type": "stream",
     "text": [
      "\n",
      " Basic Slicing :  [3 4 5 6 7]\n",
      "\n",
      " Step Slicing :  [3 5 7]\n",
      "\n",
      " Negative Indexing :  8\n"
     ]
    }
   ],
   "source": [
    "arr = np.array([1, 2, 3, 4, 5, 6, 7, 8, 9, 10])\n",
    "print(\"\\n Basic Slicing : \" , arr[2 : 7])\n",
    "print(\"\\n Step Slicing : \" , arr[2 : 8 : 2])\n",
    "print(\"\\n Negative Indexing : \" , arr[-3])"
   ]
  },
  {
   "cell_type": "markdown",
   "id": "22fe2d77",
   "metadata": {},
   "source": [
    "## 2D array \n"
   ]
  },
  {
   "cell_type": "code",
   "execution_count": 8,
   "id": "ac6a930c",
   "metadata": {},
   "outputs": [
    {
     "name": "stdout",
     "output_type": "stream",
     "text": [
      "\n",
      " Specific Element :  6\n",
      "\n",
      " Entire row :  [4 5 6]\n",
      "\n",
      " Entire Column :  [3 6 9]\n"
     ]
    }
   ],
   "source": [
    "arr_2d = np.array([[1, 2, 3] , \n",
    "                   [4, 5, 6] , \n",
    "                   [7, 8, 9]])\n",
    "print(\"\\n Specific Element : \" , arr_2d[1, 2])\n",
    "print(\"\\n Entire row : \" , arr_2d[1])\n",
    "print(\"\\n Entire Column : \" , arr_2d[:, 2])"
   ]
  },
  {
   "cell_type": "markdown",
   "id": "b7c5dfd8",
   "metadata": {},
   "source": [
    "## Sorting"
   ]
  },
  {
   "cell_type": "code",
   "execution_count": 14,
   "id": "4a486474",
   "metadata": {},
   "outputs": [
    {
     "name": "stdout",
     "output_type": "stream",
     "text": [
      "\n",
      " Sorted array :  [ 0  1  1  2  3  4  5  9 12]\n",
      "\n",
      " Sorted 2D array by column (top-to-bottom) : \n",
      " [[ 2  1]\n",
      " [ 3  2]\n",
      " [10  3]]\n",
      "\n",
      " Sorted 2D array by row (left-to-right) : \n",
      " [[ 1  3]\n",
      " [ 2 10]\n",
      " [ 2  3]]\n"
     ]
    }
   ],
   "source": [
    "unsorted = np.array([3, 1, 4, 1, 5, 9, 2, 12, 0])\n",
    "print(\"\\n Sorted array : \" , np.sort(unsorted))\n",
    "\n",
    "arr_2d_unsorted = np.array([[3, 1], [10, 2], [2, 3]])\n",
    "print(\"\\n Sorted 2D array by column (top-to-bottom) : \\n\" , np.sort(arr_2d_unsorted , axis=0)) # axis=0 -> top-to-bottom sorting\n",
    "print(\"\\n Sorted 2D array by row (left-to-right) : \\n\" , np.sort(arr_2d_unsorted , axis=1)) # axis=1 ->  left-to-right sorting"
   ]
  },
  {
   "cell_type": "markdown",
   "id": "f64e6b2c",
   "metadata": {},
   "source": [
    "## Filtering array"
   ]
  },
  {
   "cell_type": "code",
   "execution_count": null,
   "id": "e8967f87",
   "metadata": {},
   "outputs": [
    {
     "name": "stdout",
     "output_type": "stream",
     "text": [
      "\n",
      " Filtered even numbers from array is  [ 0  2  4  6  8 10]\n",
      "\n",
      " Filtered odd numbers from array is :  [1 3 5 7 9]\n"
     ]
    }
   ],
   "source": [
    "numbers = np.arange(11)\n",
    "\n",
    "# filtering even numbers \n",
    "even_numbers = numbers[numbers % 2 == 0] \n",
    "print(\"\\n Filtered even numbers from array is \" , even_numbers)\n",
    "\n",
    "# filtring odd numbers \n",
    "odd_numbers = numbers[numbers % 2 != 0] \n",
    "print(\"\\n Filtered odd numbers from array is : \" , odd_numbers)"
   ]
  },
  {
   "cell_type": "markdown",
   "id": "962e1651",
   "metadata": {},
   "source": [
    "## Filter with Mask "
   ]
  },
  {
   "cell_type": "code",
   "execution_count": null,
   "id": "24fa3db2",
   "metadata": {},
   "outputs": [
    {
     "name": "stdout",
     "output_type": "stream",
     "text": [
      "\n",
      " Numbers greater than 5 :  [ 6  7  8  9 10]\n"
     ]
    }
   ],
   "source": [
    "# filtering numbers greater tha ffrom the array \n",
    "mask = numbers > 5 \n",
    "print(\"\\n Numbers greater than 5 : \" , numbers[mask])"
   ]
  },
  {
   "cell_type": "markdown",
   "id": "a1e95997",
   "metadata": {},
   "source": [
    "## Fancy indexing v/s np.where()"
   ]
  },
  {
   "cell_type": "code",
   "execution_count": 27,
   "id": "873ba347",
   "metadata": {},
   "outputs": [
    {
     "name": "stdout",
     "output_type": "stream",
     "text": [
      "\n",
      " Indices elements are :  [ 0 64 70]\n",
      "\n",
      " Indices of nums which are greater than 50 :  (array([4, 6, 7, 8]),)\n",
      "\n",
      " NP Where elements :  [64 61 70 98]\n"
     ]
    }
   ],
   "source": [
    "nums = np.array([0, 10, 12, 35, 64, 5, 61, 70, 98, 11, 10])\n",
    "\n",
    "# printing indices but indices taken altready in a variable\n",
    "indices = [0, 4, 7]\n",
    "print(\"\\n Indices elements are : \" , nums[indices])\n",
    "\n",
    "\n",
    "# np.where()\n",
    "where_result = np.where(nums > 50)\n",
    "print(\"\\n Indices of nums which are greater than 50 : \" , where_result) # where_result will store the index of numbers which are greater than 50\n",
    "print(\"\\n NP Where elements : \" , nums[where_result])\n",
    "\n"
   ]
  },
  {
   "cell_type": "code",
   "execution_count": null,
   "id": "d5f00b47",
   "metadata": {},
   "outputs": [
    {
     "name": "stdout",
     "output_type": "stream",
     "text": [
      "\n",
      " Conditional array :  [  0  10  12  35 128   5 122 140 196  11  10]\n",
      "\n",
      " Conditional array (True/False) :  ['False' 'False' 'False' 'False' 'True' 'False' 'True' 'True' 'True'\n",
      " 'False' 'False']\n"
     ]
    }
   ],
   "source": [
    "conditional_array1 = np.where(nums > 45 , nums*2 , nums) # in this nums which are greater than 45 they were multiplis by 2, and we have to pass the array also in arguments with more than one conditions\n",
    "print(\"\\n Conditional array : \" , conditional_array1)\n",
    "\n",
    "# example dry run of above code \n",
    "'''\n",
    "if(nums > 45) {\n",
    "    return nums*2\n",
    "} else {\n",
    "    return nums\n",
    "}\n",
    "'''\n",
    "\n",
    "# if nums is greater than 45 then it will print true otherise false\n",
    "conditional_array2 = np.where(nums > 45 , \"True\" , \"False\")\n",
    "print(\"\\n Conditional array (True/False) : \" , conditional_array2)"
   ]
  },
  {
   "cell_type": "markdown",
   "id": "183553f5",
   "metadata": {},
   "source": [
    "## Merging array \n"
   ]
  },
  {
   "cell_type": "code",
   "execution_count": 40,
   "id": "dd767ac4",
   "metadata": {},
   "outputs": [
    {
     "name": "stdout",
     "output_type": "stream",
     "text": [
      "\n",
      " Combination of arr1 & arr2 is :  [ 1  4  6  8  7 10 11 15]\n"
     ]
    }
   ],
   "source": [
    "arr1 = np.array([1, 4, 6, 8])\n",
    "arr2 = np.array([7, 10, 11, 15])\n",
    "\n",
    "# merging arr1 & arr2\n",
    "combined = np.concatenate((arr1 , arr2))\n",
    "print(\"\\n Combination of arr1 & arr2 is : \" , combined)"
   ]
  },
  {
   "cell_type": "markdown",
   "id": "b3caf0ea",
   "metadata": {},
   "source": [
    "## Array Compatibility "
   ]
  },
  {
   "cell_type": "code",
   "execution_count": null,
   "id": "0e6a8d76",
   "metadata": {},
   "outputs": [
    {
     "name": "stdout",
     "output_type": "stream",
     "text": [
      "\n",
      " Compatibility shape :  True\n",
      "\n",
      " Compatibility shape :  True\n"
     ]
    }
   ],
   "source": [
    "arr1 = np.array([1, 2, 3])\n",
    "arr2 = np.array([4, 5, 6])\n",
    "arr3 = np.array([7, 8, 9])\n",
    "\n",
    "# checking the shape of two array is same or not \n",
    "print(\"\\n Compatibility shape of two array : \" , arr1.shape == arr2.shape)\n",
    "\n",
    "# checking multiple arrays at a time \n",
    "print(\"\\n Compatibility shape of three array : \" , arr1.shape == arr2.shape == arr3.shape)"
   ]
  },
  {
   "cell_type": "markdown",
   "id": "9e7de7df",
   "metadata": {},
   "source": [
    "## Adding new Row in 2D array"
   ]
  },
  {
   "cell_type": "code",
   "execution_count": null,
   "id": "3246670a",
   "metadata": {},
   "outputs": [
    {
     "name": "stdout",
     "output_type": "stream",
     "text": [
      "\n",
      " Original 2D array : \n",
      " [[1 2]\n",
      " [3 4]]\n",
      "\n",
      " New 1D array : \n",
      " [[5 6]]\n",
      "\n",
      " New array after adding new row in 2D array : \n",
      " [[1 2]\n",
      " [3 4]\n",
      " [5 6]]\n"
     ]
    }
   ],
   "source": [
    "# 2D array \n",
    "original_2d_array1 = np.array([[1, 2] ,\n",
    "                             [3, 4]])\n",
    "# new row for adding \n",
    "new_row = np.array([[5, 6]])\n",
    "\n",
    "# with new row \n",
    "with_new_row = np.vstack((original_2d_array1 , new_row)) # here vstack() will add the new row(left-to-right) in 2D array\n",
    "\n",
    "print(\"\\n Original 2D array : \\n\" , original_2d_array1)\n",
    "print(\"\\n New row : \\n\" , new_row)\n",
    "print(\"\\n New array after adding new row in 2D array : \\n\" , with_new_row)\n"
   ]
  },
  {
   "cell_type": "markdown",
   "id": "74716631",
   "metadata": {},
   "source": [
    "## Adding new Column in 2D array "
   ]
  },
  {
   "cell_type": "code",
   "execution_count": null,
   "id": "969cd40a",
   "metadata": {},
   "outputs": [
    {
     "name": "stdout",
     "output_type": "stream",
     "text": [
      "\n",
      " Original 2D array : \n",
      " [[1 3]\n",
      " [2 4]]\n",
      "\n",
      " New column : \n",
      " [[5]\n",
      " [6]]\n",
      "\n",
      " New array after adding new column in 2D array : \n",
      " [[1 3 5]\n",
      " [2 4 6]]\n"
     ]
    }
   ],
   "source": [
    "# 2D array\n",
    "original_2d_array2 = np.array([[1, 3] , \n",
    "                              [2, 4]])\n",
    "\n",
    "# new column \n",
    "new_column = np.array([[5] , [6]])\n",
    "\n",
    "# with new column \n",
    "with_new_column = np.hstack((original_2d_array2 , new_column)) # hstack() will add new column(top-to-bottom) in 2D array\n",
    "\n",
    "print(\"\\n Original 2D array : \\n\" , original_2d_array2)\n",
    "print(\"\\n New column : \\n\" , new_column)\n",
    "print(\"\\n New array after adding new column in 2D array : \\n\" , with_new_column)"
   ]
  },
  {
   "cell_type": "markdown",
   "id": "324faffb",
   "metadata": {},
   "source": [
    "## Deletion in 1D array"
   ]
  },
  {
   "cell_type": "code",
   "execution_count": 52,
   "id": "33568619",
   "metadata": {},
   "outputs": [
    {
     "name": "stdout",
     "output_type": "stream",
     "text": [
      "\n",
      " Array after deletion :  [1 2 3 5 6 7]\n"
     ]
    }
   ],
   "source": [
    "# new array\n",
    "new_arr = np.array([1, 2, 3, 4, 5, 6, 7])\n",
    "\n",
    "deleted = np.delete(new_arr , 3) \n",
    "print(\"\\n Array after deletion : \" , deleted)"
   ]
  }
 ],
 "metadata": {
  "kernelspec": {
   "display_name": ".venv",
   "language": "python",
   "name": "python3"
  },
  "language_info": {
   "codemirror_mode": {
    "name": "ipython",
    "version": 3
   },
   "file_extension": ".py",
   "mimetype": "text/x-python",
   "name": "python",
   "nbconvert_exporter": "python",
   "pygments_lexer": "ipython3",
   "version": "3.12.9"
  }
 },
 "nbformat": 4,
 "nbformat_minor": 5
}
