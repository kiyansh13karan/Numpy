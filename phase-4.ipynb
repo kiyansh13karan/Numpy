{
 "cells": [
  {
   "cell_type": "markdown",
   "id": "7f4d1a00",
   "metadata": {},
   "source": [
    "## Storing image in Matrix  "
   ]
  },
  {
   "cell_type": "code",
   "execution_count": 2,
   "id": "6e288ed3",
   "metadata": {},
   "outputs": [],
   "source": [
    "import numpy as np \n",
    "import matplotlib.pyplot as plt"
   ]
  },
  {
   "cell_type": "markdown",
   "id": "b0192ea9",
   "metadata": {},
   "source": [
    "### Creating array (saved in memory)"
   ]
  },
  {
   "cell_type": "code",
   "execution_count": 6,
   "id": "764f3586",
   "metadata": {},
   "outputs": [],
   "source": [
    "arr1 = np.array([[1, 2, 3], [4, 5, 6]])\n",
    "arr2 = np.random.rand(3, 3)\n",
    "arr3 = np.zeros((4, 4))"
   ]
  },
  {
   "cell_type": "markdown",
   "id": "74218aa5",
   "metadata": {},
   "source": [
    "### Saving in flat files "
   ]
  },
  {
   "cell_type": "code",
   "execution_count": 7,
   "id": "4b1e08fc",
   "metadata": {},
   "outputs": [],
   "source": [
    "np.save('arr1.npy' , arr1)\n",
    "np.save('arr2.npy' , arr2)\n",
    "np.save('arr3.npy' , arr3)"
   ]
  },
  {
   "cell_type": "markdown",
   "id": "9af83b73",
   "metadata": {},
   "source": [
    "### Loading above array "
   ]
  },
  {
   "cell_type": "code",
   "execution_count": 11,
   "id": "34ea5075",
   "metadata": {},
   "outputs": [
    {
     "name": "stdout",
     "output_type": "stream",
     "text": [
      "\n",
      "Loaded arr1 : \n",
      " [[1 2 3]\n",
      " [4 5 6]]\n",
      "\n",
      "Loaded arr2 : \n",
      " [[0.01136614 0.60309767 0.77219519]\n",
      " [0.86018623 0.40123322 0.13424745]\n",
      " [0.67982553 0.09803548 0.7647753 ]]\n",
      "\n",
      "Loaded arr3 : \n",
      " [[0. 0. 0. 0.]\n",
      " [0. 0. 0. 0.]\n",
      " [0. 0. 0. 0.]\n",
      " [0. 0. 0. 0.]]\n"
     ]
    }
   ],
   "source": [
    "# loading array 1 \n",
    "loading_arr1 = np.load('arr1.npy')\n",
    "print(\"\\nLoaded arr1 : \\n\" , loading_arr1)\n",
    "\n",
    "# loading array 2\n",
    "loading_arr2 = np.load('arr2.npy')\n",
    "print(\"\\nLoaded arr2 : \\n\" , loading_arr2)\n",
    "\n",
    "# loading array 3 \n",
    "loading_arr3 = np.load('arr3.npy')\n",
    "print(\"\\nLoaded arr3 : \\n\" , loading_arr3)"
   ]
  }
 ],
 "metadata": {
  "kernelspec": {
   "display_name": ".venv",
   "language": "python",
   "name": "python3"
  },
  "language_info": {
   "codemirror_mode": {
    "name": "ipython",
    "version": 3
   },
   "file_extension": ".py",
   "mimetype": "text/x-python",
   "name": "python",
   "nbconvert_exporter": "python",
   "pygments_lexer": "ipython3",
   "version": "3.12.9"
  }
 },
 "nbformat": 4,
 "nbformat_minor": 5
}
